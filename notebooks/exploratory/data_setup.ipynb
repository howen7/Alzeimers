{
 "cells": [
  {
   "cell_type": "markdown",
   "metadata": {},
   "source": [
    "# Kaggle API"
   ]
  },
  {
   "cell_type": "code",
   "execution_count": null,
   "metadata": {},
   "outputs": [],
   "source": [
    "#pip install kaggle --upgrade"
   ]
  },
  {
   "cell_type": "markdown",
   "metadata": {},
   "source": [
    "# Un-comment to get the data"
   ]
  },
  {
   "cell_type": "code",
   "execution_count": 1,
   "metadata": {},
   "outputs": [
    {
     "name": "stdout",
     "output_type": "stream",
     "text": [
      "alzheimers-dataset-4-class-of-images.zip: Skipping, found more recently modified local copy (use --force to force download)\n"
     ]
    }
   ],
   "source": [
    "#!kaggle datasets download -d tourist55/alzheimers-dataset-4-class-of-images -p ../../src/data"
   ]
  },
  {
   "cell_type": "code",
   "execution_count": 2,
   "metadata": {},
   "outputs": [],
   "source": [
    "# import zipfile\n",
    "# with zipfile.ZipFile(\"../../src/dataalzheimers-dataset-4-class-of-images.zip\",\"r\") as zip_ref:  #unzipping file\n",
    "#    zip_ref.extractall(\"../../src/data\")     #File path where you want to unzip it"
   ]
  },
  {
   "cell_type": "markdown",
   "metadata": {},
   "source": [
    "# Creating enviorment"
   ]
  },
  {
   "cell_type": "code",
   "execution_count": 3,
   "metadata": {},
   "outputs": [],
   "source": [
    "!python3 -m venv alzheimers-env"
   ]
  },
  {
   "cell_type": "code",
   "execution_count": 7,
   "metadata": {},
   "outputs": [
    {
     "name": "stdout",
     "output_type": "stream",
     "text": [
      "/bin/bash: alzheimers-env/bin/activate: No such file or directory\n"
     ]
    }
   ],
   "source": [
    "!source alzheimers-env/bin/activate"
   ]
  },
  {
   "cell_type": "code",
   "execution_count": 1,
   "metadata": {},
   "outputs": [
    {
     "name": "stdout",
     "output_type": "stream",
     "text": [
      "Name: requests\n",
      "Version: 2.24.0\n",
      "Summary: Python HTTP for Humans.\n",
      "Home-page: https://requests.readthedocs.io\n",
      "Author: Kenneth Reitz\n",
      "Author-email: me@kennethreitz.org\n",
      "License: Apache 2.0\n",
      "Location: /opt/anaconda3/lib/python3.8/site-packages\n",
      "Requires: idna, urllib3, certifi, chardet\n",
      "Required-by: tensorboard, tabulator, tableschema, Sphinx, requests-oauthlib, kaggle, jupyterlab-server, folium, datapackage, conda, conda-build, anaconda-project, anaconda-client\n"
     ]
    }
   ],
   "source": [
    "!pip show requests"
   ]
  },
  {
   "cell_type": "code",
   "execution_count": 8,
   "metadata": {},
   "outputs": [
    {
     "name": "stdout",
     "output_type": "stream",
     "text": [
      "Note: you may need to restart the kernel to use updated packages.\n"
     ]
    }
   ],
   "source": [
    "pip freeze > requirements.txt"
   ]
  },
  {
   "cell_type": "markdown",
   "metadata": {},
   "source": [
    "# Setting up a validation set. "
   ]
  },
  {
   "cell_type": "markdown",
   "metadata": {},
   "source": [
    "The data set has no validation set so I'm going to take a 20% of the train data and put it in the validation set. "
   ]
  },
  {
   "cell_type": "code",
   "execution_count": 7,
   "metadata": {},
   "outputs": [],
   "source": [
    "# Created a val folder where I will move train data to it\n",
    "#!mkdir ../../src/data/val"
   ]
  },
  {
   "cell_type": "code",
   "execution_count": 9,
   "metadata": {},
   "outputs": [],
   "source": [
    "# Create subfolders in \n",
    "# !mkdir ../../src/data/val/MildDemented\n",
    "# !mkdir ../../src/data/val/ModerateDemented\n",
    "# !mkdir ../../src/data/val/NonDemented\n",
    "# !mkdir ../../src/data/val/VeryMildDemented"
   ]
  },
  {
   "cell_type": "code",
   "execution_count": 8,
   "metadata": {},
   "outputs": [],
   "source": [
    "import os, shutil"
   ]
  },
  {
   "cell_type": "code",
   "execution_count": 15,
   "metadata": {},
   "outputs": [],
   "source": [
    "# Creating path for all train,val,test\n",
    "train_mild_dir = '../../src/data/train/MildDemented'\n",
    "train_moderate_dir = '../../src/data/train/ModerateDemented'\n",
    "train_nondemented_dir = '../../src/data/train/NonDemented'\n",
    "train_verymild_dir = '../../src/data/train/VeryMildDemented'\n",
    "\n",
    "val_mild_dir = '../../src/data/val/MildDemented'\n",
    "val_moderate_dir = '../../src/data/val/ModerateDemented'\n",
    "val_nondemented_dir = '../../src/data/val/NonDemented'\n",
    "val_verymild_dir = '../../src/data/val/VeryMildDemented'\n",
    "\n",
    "test_mild_dir = '../../src/data/test/MildDemented'\n",
    "test_moderate_dir = '../../src/data/test/ModerateDemented'\n",
    "test_nondemented_dir = '../../src/data/test/NonDemented'\n",
    "test_verymild_dir = '../../src/data/test/VeryMildDemented'"
   ]
  },
  {
   "cell_type": "code",
   "execution_count": 16,
   "metadata": {},
   "outputs": [
    {
     "name": "stdout",
     "output_type": "stream",
     "text": [
      " Train Mild: 718\n",
      " Train Moderate: 52\n",
      " Train Normal: 2560\n",
      " Train Very Mild: 1792\n",
      " Val Mild: 0\n",
      " Val Moderate: 0\n",
      " Val Normal: 0\n",
      " Val Very Mild: 0\n",
      " Test Mild: 179\n",
      " Test Moderate: 12\n",
      " Test Normal: 640\n",
      " Test Very Mild: 448\n"
     ]
    }
   ],
   "source": [
    "# see how many pictures are in each directory\n",
    "print(f' Train Mild: {len(os.listdir(train_mild_dir))}')\n",
    "print(f' Train Moderate: {len(os.listdir(train_moderate_dir))}')\n",
    "print(f' Train Normal: {len(os.listdir(train_nondemented_dir))}')\n",
    "print(f' Train Very Mild: {len(os.listdir(train_verymild_dir))}')\n",
    "\n",
    "print(f' Val Mild: {len(os.listdir(val_mild_dir))}')\n",
    "print(f' Val Moderate: {len(os.listdir(val_moderate_dir))}')\n",
    "print(f' Val Normal: {len(os.listdir(val_nondemented_dir))}')\n",
    "print(f' Val Very Mild: {len(os.listdir(val_verymild_dir))}')\n",
    "\n",
    "print(f' Test Mild: {len(os.listdir(test_mild_dir))}')\n",
    "print(f' Test Moderate: {len(os.listdir(test_moderate_dir))}')  \n",
    "print(f' Test Normal: {len(os.listdir(test_nondemented_dir))}')\n",
    "print(f' Test Very Mild: {len(os.listdir(test_verymild_dir))}')  "
   ]
  },
  {
   "cell_type": "markdown",
   "metadata": {},
   "source": [
    "# Move 20% of train data to validation folder"
   ]
  },
  {
   "cell_type": "code",
   "execution_count": 19,
   "metadata": {},
   "outputs": [],
   "source": [
    "imgs_Mild = [file for file in os.listdir(train_mild_dir) if file.endswith('.jpg')]\n",
    "imgs_Moderate = [file for file in os.listdir(train_moderate_dir) if file.endswith('.jpg')]\n",
    "imgs_Normal = [file for file in os.listdir(train_nondemented_dir) if file.endswith('.jpg')]\n",
    "imgs_veryMild = [file for file in os.listdir(train_verymild_dir) if file.endswith('.jpg')]"
   ]
  },
  {
   "cell_type": "code",
   "execution_count": 36,
   "metadata": {},
   "outputs": [],
   "source": [
    "# moving mild, moderate, normal, very mild to validation folder.\n",
    "imgs = imgs_Mild[int(len(imgs_Mild)*.8):]\n",
    "for img in imgs:\n",
    "    origin = os.path.join(train_mild_dir, img)\n",
    "    destination = os.path.join(val_mild_dir, img)\n",
    "    shutil.copyfile(origin, destination)\n",
    "    os.remove(train_mild_dir+'/'+img)\n",
    "\n",
    "imgs = imgs_Moderate[int(len(imgs_Moderate)*.8):]\n",
    "for img in imgs:\n",
    "    origin = os.path.join(train_moderate_dir, img)\n",
    "    destination = os.path.join(val_moderate_dir, img)\n",
    "    shutil.copyfile(origin, destination)\n",
    "    os.remove(train_moderate_dir+'/'+img)\n",
    "    \n",
    "imgs = imgs_Normal[int(len(imgs_Normal)*.8):]\n",
    "for img in imgs:\n",
    "    origin = os.path.join(train_nondemented_dir, img)\n",
    "    destination = os.path.join(val_nondemented_dir, img)\n",
    "    shutil.copyfile(origin, destination)\n",
    "    os.remove(train_nondemented_dir+'/'+img)\n",
    "    \n",
    "imgs = imgs_veryMild[int(len(imgs_veryMild)*.8):]\n",
    "for img in imgs:\n",
    "    origin = os.path.join(train_verymild_dir, img)\n",
    "    destination = os.path.join(val_verymild_dir, img)\n",
    "    shutil.copyfile(origin, destination)\n",
    "    os.remove(train_verymild_dir+'/'+img)"
   ]
  },
  {
   "cell_type": "code",
   "execution_count": 38,
   "metadata": {},
   "outputs": [
    {
     "name": "stdout",
     "output_type": "stream",
     "text": [
      " Train Mild: 574\n",
      " Train Moderate: 41\n",
      " Train Normal: 2049\n",
      " Train Very Mild: 1434\n",
      " Val Mild: 144\n",
      " Val Moderate: 11\n",
      " Val Normal: 512\n",
      " Val Very Mild: 359\n",
      " Test Mild: 179\n",
      " Test Moderate: 12\n",
      " Test Normal: 641\n",
      " Test Very Mild: 448\n"
     ]
    }
   ],
   "source": [
    "print(f' Train Mild: {len(os.listdir(train_mild_dir))}')\n",
    "print(f' Train Moderate: {len(os.listdir(train_moderate_dir))}')\n",
    "print(f' Train Normal: {len(os.listdir(train_nondemented_dir))}')\n",
    "print(f' Train Very Mild: {len(os.listdir(train_verymild_dir))}')\n",
    "\n",
    "print(f' Val Mild: {len(os.listdir(val_mild_dir))}')\n",
    "print(f' Val Moderate: {len(os.listdir(val_moderate_dir))}')\n",
    "print(f' Val Normal: {len(os.listdir(val_nondemented_dir))}')\n",
    "print(f' Val Very Mild: {len(os.listdir(val_verymild_dir))}')\n",
    "\n",
    "print(f' Test Mild: {len(os.listdir(test_mild_dir))}')\n",
    "print(f' Test Moderate: {len(os.listdir(test_moderate_dir))}')  \n",
    "print(f' Test Normal: {len(os.listdir(test_nondemented_dir))}')\n",
    "print(f' Test Very Mild: {len(os.listdir(test_verymild_dir))}')  "
   ]
  },
  {
   "cell_type": "code",
   "execution_count": null,
   "metadata": {},
   "outputs": [],
   "source": []
  }
 ],
 "metadata": {
  "kernelspec": {
   "display_name": "Python 3",
   "language": "python",
   "name": "python3"
  },
  "language_info": {
   "codemirror_mode": {
    "name": "ipython",
    "version": 3
   },
   "file_extension": ".py",
   "mimetype": "text/x-python",
   "name": "python",
   "nbconvert_exporter": "python",
   "pygments_lexer": "ipython3",
   "version": "3.8.3"
  }
 },
 "nbformat": 4,
 "nbformat_minor": 4
}
