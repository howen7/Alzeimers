{
 "cells": [
  {
   "cell_type": "code",
   "execution_count": 5,
   "metadata": {},
   "outputs": [],
   "source": [
    "import matplotlib.pyplot as plt\n",
    "import scipy\n",
    "import numpy as np\n",
    "import os \n",
    "import glob\n",
    "import seaborn as sns\n",
    "\n",
    "from PIL import Image\n",
    "from scipy import ndimage\n",
    "\n",
    "\n",
    "from sklearn import metrics\n",
    "from sklearn.metrics import confusion_matrix, classification_report, plot_confusion_matrix\n",
    "\n",
    "from keras import models\n",
    "from keras.preprocessing import image\n",
    "from keras.preprocessing.image import ImageDataGenerator, array_to_img, img_to_array, load_img\n",
    "from keras.models import Sequential\n",
    "from keras.layers import Conv2D, MaxPooling2D\n",
    "from keras.layers import Activation, Dropout, Flatten, Dense"
   ]
  },
  {
   "cell_type": "code",
   "execution_count": 31,
   "metadata": {},
   "outputs": [
    {
     "name": "stdout",
     "output_type": "stream",
     "text": [
      "Found 4101 images belonging to 4 classes.\n",
      "Found 1026 images belonging to 4 classes.\n",
      "Found 1279 images belonging to 4 classes.\n",
      "Epoch 1/15\n",
      "411/411 [==============================] - 6s 14ms/step - loss: 1.0084 - acc: 0.5033 - val_loss: 0.9555 - val_acc: 0.5341\n",
      "Epoch 2/15\n",
      "411/411 [==============================] - 6s 15ms/step - loss: 0.8758 - acc: 0.5716 - val_loss: 0.8361 - val_acc: 0.5936\n",
      "Epoch 3/15\n",
      "411/411 [==============================] - 7s 17ms/step - loss: 0.7974 - acc: 0.6177 - val_loss: 0.7800 - val_acc: 0.6384\n",
      "Epoch 4/15\n",
      "411/411 [==============================] - 7s 18ms/step - loss: 0.6985 - acc: 0.6767 - val_loss: 0.7009 - val_acc: 0.6988\n",
      "Epoch 5/15\n",
      "411/411 [==============================] - 8s 19ms/step - loss: 0.5838 - acc: 0.7359 - val_loss: 0.6130 - val_acc: 0.7368\n",
      "Epoch 6/15\n",
      "411/411 [==============================] - 8s 20ms/step - loss: 0.4612 - acc: 0.7940 - val_loss: 0.6338 - val_acc: 0.7242\n",
      "Epoch 7/15\n",
      "411/411 [==============================] - 9s 21ms/step - loss: 0.3220 - acc: 0.8747 - val_loss: 0.5464 - val_acc: 0.7817\n",
      "Epoch 8/15\n",
      "411/411 [==============================] - 9s 22ms/step - loss: 0.2275 - acc: 0.9120 - val_loss: 0.4079 - val_acc: 0.8694\n",
      "Epoch 9/15\n",
      "411/411 [==============================] - 9s 22ms/step - loss: 0.1403 - acc: 0.9483 - val_loss: 0.2120 - val_acc: 0.9259\n",
      "Epoch 10/15\n",
      "411/411 [==============================] - 9s 23ms/step - loss: 0.0856 - acc: 0.9695 - val_loss: 0.2800 - val_acc: 0.9162\n",
      "Epoch 11/15\n",
      "411/411 [==============================] - 10s 23ms/step - loss: 0.0691 - acc: 0.9759 - val_loss: 0.2931 - val_acc: 0.9172\n",
      "Epoch 12/15\n",
      "411/411 [==============================] - 10s 24ms/step - loss: 0.0790 - acc: 0.9705 - val_loss: 0.2089 - val_acc: 0.9376\n",
      "Epoch 13/15\n",
      "411/411 [==============================] - 10s 24ms/step - loss: 0.0539 - acc: 0.9815 - val_loss: 0.3047 - val_acc: 0.9230\n",
      "Epoch 14/15\n",
      "411/411 [==============================] - 10s 26ms/step - loss: 0.0408 - acc: 0.9866 - val_loss: 0.2269 - val_acc: 0.9405\n",
      "Epoch 15/15\n",
      "411/411 [==============================] - 10s 25ms/step - loss: 0.0526 - acc: 0.9834 - val_loss: 0.2311 - val_acc: 0.9542\n"
     ]
    }
   ],
   "source": [
    "train_dir = '../../src/data/train'\n",
    "validation_dir = '../../src/data/val'\n",
    "test_dir = '../../src/data/test'\n",
    "\n",
    "\n",
    "dagenerator = ImageDataGenerator(rescale=1./255)\n",
    "target_size = (64, 64)\n",
    "batch_size = 10\n",
    "num_of_test_samples = len(glob.glob('../../src/data/test/*/*.jpg'))\n",
    "\n",
    "\n",
    "train_generator = dagenerator.flow_from_directory(\n",
    "        train_dir,\n",
    "        target_size= target_size, \n",
    "        batch_size = batch_size)\n",
    "\n",
    "val_generator = dagenerator.flow_from_directory(\n",
    "        validation_dir,\n",
    "        target_size= target_size, \n",
    "        batch_size = batch_size,\n",
    "        shuffle=False)\n",
    "\n",
    "test_generator = dagenerator.flow_from_directory(\n",
    "        test_dir,\n",
    "        target_size= target_size, \n",
    "        batch_size = num_of_test_samples, #All images in test set \n",
    "        shuffle=False)\n",
    "\n",
    "\n",
    "# Simple model\n",
    "model = Sequential()\n",
    "\n",
    "model.add(Conv2D(10, (3,3), activation='relu', input_shape = (64,64,3)))\n",
    "model.add(MaxPooling2D((2,2)))\n",
    "model.add(Conv2D(20, (3, 3), activation='relu'))\n",
    "model.add(MaxPooling2D((2, 2)))\n",
    "model.add(Conv2D(20, (3, 3), activation='relu'))\n",
    "model.add(Flatten())\n",
    "model.add(Dense(64, activation='relu'))\n",
    "model.add(Dense(16, activation='relu'))\n",
    "model.add(Dense(4, activation='softmax')) # last layer has to match the amount of catagories trying to classify\n",
    "\n",
    "model.compile(loss='categorical_crossentropy', \n",
    "              optimizer='adam',\n",
    "              metrics=['acc'])\n",
    "\n",
    "history = model.fit_generator(\n",
    "        generator =train_generator,\n",
    "        validation_data = val_generator,\n",
    "        epochs=15)"
   ]
  },
  {
   "cell_type": "code",
   "execution_count": 32,
   "metadata": {},
   "outputs": [
    {
     "name": "stdout",
     "output_type": "stream",
     "text": [
      "WARNING:tensorflow:From <ipython-input-32-9b1949980010>:4: Model.predict_generator (from tensorflow.python.keras.engine.training) is deprecated and will be removed in a future version.\n",
      "Instructions for updating:\n",
      "Please use Model.predict, which supports generators.\n",
      "-----------------------Classification Report-------------------\n",
      "              precision    recall  f1-score   support\n",
      "\n",
      "        Mild       0.95      0.85      0.89       144\n",
      "    Moderate       1.00      0.45      0.62        11\n",
      "        None       0.97      0.98      0.97       512\n",
      "   Very Mild       0.94      0.97      0.95       359\n",
      "\n",
      "    accuracy                           0.95      1026\n",
      "   macro avg       0.96      0.81      0.86      1026\n",
      "weighted avg       0.95      0.95      0.95      1026\n",
      "\n",
      "------------------------Confusion Matrix---------------------------\n"
     ]
    },
    {
     "data": {
      "text/plain": [
       "[Text(33.0, 0.5, 'Actual'), Text(0.5, 15.0, 'Predicted')]"
      ]
     },
     "execution_count": 32,
     "metadata": {},
     "output_type": "execute_result"
    },
    {
     "data": {
      "image/png": "[encoded data removed]",
      "text/plain": [
       "<Figure size 432x288 with 2 Axes>"
      ]
     },
     "metadata": {
      "needs_background": "light"
     },
     "output_type": "display_data"
    }
   ],
   "source": [
    "#Confution Matrix and Classification Report\n",
    "num_of_val_samples = len(glob.glob('../../src/data/val/*/*.jpg'))\n",
    "\n",
    "Y_pred = model.predict_generator(val_generator, num_of_val_samples// batch_size+1) # so it lines up with the batches\n",
    "y_pred = np.argmax(Y_pred, axis=1)\n",
    "target_names = ['Mild','Moderate','None','Very Mild']\n",
    "print('-----------------------Classification Report-------------------')\n",
    "print(classification_report(val_generator.classes, y_pred, target_names=target_names))\n",
    "print('------------------------Confusion Matrix---------------------------')\n",
    "\n",
    "conf = confusion_matrix(val_generator.classes, y_pred, normalize='true')\n",
    "ax = sns.heatmap(conf, annot=True, xticklabels = target_names, yticklabels= target_names);\n",
    "ax.set(xlabel='Predicted', ylabel='Actual')"
   ]
  },
  {
   "cell_type": "markdown",
   "metadata": {},
   "source": [
    "# Trying method to fix class imbalance"
   ]
  },
  {
   "cell_type": "markdown",
   "metadata": {},
   "source": [
    "### Adding Class weight to balance train"
   ]
  },
  {
   "cell_type": "code",
   "execution_count": 20,
   "metadata": {},
   "outputs": [
    {
     "name": "stdout",
     "output_type": "stream",
     "text": [
      " MildDemented: 7.157068062827225\n",
      " ModerateDemented: 100.02439024390243\n",
      " NonDemented: 2.00244140625\n",
      " VeryMildDemented: 2.861828332170272\n"
     ]
    }
   ],
   "source": [
    "class_name = ['MildDemented', 'ModerateDemented', 'NonDemented', 'VeryMildDemented']\n",
    "for i in class_name:\n",
    "    print(f\" {i}: {1/(len(glob.glob(f'../../src/data/train/{i}/*.jpg'))/4101)}\")"
   ]
  },
  {
   "cell_type": "code",
   "execution_count": 33,
   "metadata": {},
   "outputs": [
    {
     "name": "stdout",
     "output_type": "stream",
     "text": [
      "Epoch 1/15\n",
      "411/411 [==============================] - 6s 15ms/step - loss: 5.7946 - acc: 0.3684 - val_loss: 1.3823 - val_acc: 0.3499\n",
      "Epoch 2/15\n",
      "411/411 [==============================] - 7s 18ms/step - loss: 5.5886 - acc: 0.3219 - val_loss: 1.3544 - val_acc: 0.5166\n",
      "Epoch 3/15\n",
      "411/411 [==============================] - 8s 19ms/step - loss: 5.2894 - acc: 0.4431 - val_loss: 1.1123 - val_acc: 0.5146\n",
      "Epoch 4/15\n",
      "411/411 [==============================] - 9s 21ms/step - loss: 4.0742 - acc: 0.5077 - val_loss: 1.2622 - val_acc: 0.4327\n",
      "Epoch 5/15\n",
      "411/411 [==============================] - 10s 24ms/step - loss: 3.1532 - acc: 0.5582 - val_loss: 0.9865 - val_acc: 0.5351\n",
      "Epoch 6/15\n",
      "411/411 [==============================] - 10s 24ms/step - loss: 2.5794 - acc: 0.6191 - val_loss: 0.7665 - val_acc: 0.6277\n",
      "Epoch 7/15\n",
      "411/411 [==============================] - 10s 24ms/step - loss: 2.1571 - acc: 0.6728 - val_loss: 0.6354 - val_acc: 0.7232\n",
      "Epoch 8/15\n",
      "411/411 [==============================] - 11s 27ms/step - loss: 1.6306 - acc: 0.7493 - val_loss: 0.5322 - val_acc: 0.7632\n",
      "Epoch 9/15\n",
      "411/411 [==============================] - 11s 26ms/step - loss: 1.1549 - acc: 0.8264 - val_loss: 0.4613 - val_acc: 0.8109\n",
      "Epoch 10/15\n",
      "411/411 [==============================] - 12s 30ms/step - loss: 0.8861 - acc: 0.8617 - val_loss: 0.4077 - val_acc: 0.8099\n",
      "Epoch 11/15\n",
      "411/411 [==============================] - 12s 28ms/step - loss: 0.5066 - acc: 0.9247 - val_loss: 0.2568 - val_acc: 0.9103\n",
      "Epoch 12/15\n",
      "411/411 [==============================] - 11s 28ms/step - loss: 0.3528 - acc: 0.9490 - val_loss: 0.2511 - val_acc: 0.9064\n",
      "Epoch 13/15\n",
      "411/411 [==============================] - 11s 26ms/step - loss: 0.2952 - acc: 0.9615 - val_loss: 0.1789 - val_acc: 0.9357\n",
      "Epoch 14/15\n",
      "411/411 [==============================] - 11s 26ms/step - loss: 0.1391 - acc: 0.9866 - val_loss: 0.1734 - val_acc: 0.9376\n",
      "Epoch 15/15\n",
      "411/411 [==============================] - 11s 26ms/step - loss: 0.1286 - acc: 0.9859 - val_loss: 0.1685 - val_acc: 0.9435\n",
      "-----------------------Classification Report-------------------\n",
      "              precision    recall  f1-score   support\n",
      "\n",
      "        Mild       0.91      0.94      0.93       144\n",
      "    Moderate       1.00      1.00      1.00        11\n",
      "        None       0.99      0.93      0.96       512\n",
      "   Very Mild       0.90      0.96      0.93       359\n",
      "\n",
      "    accuracy                           0.94      1026\n",
      "   macro avg       0.95      0.96      0.95      1026\n",
      "weighted avg       0.95      0.94      0.94      1026\n",
      "\n",
      "------------------------Confusion Matrix---------------------------\n"
     ]
    },
    {
     "data": {
      "text/plain": [
       "[Text(33.0, 0.5, 'Actual'), Text(0.5, 15.0, 'Predicted')]"
      ]
     },
     "execution_count": 33,
     "metadata": {},
     "output_type": "execute_result"
    },
    {
     "data": {
      "image/png": "[encoded data removed]",
      "text/plain": [
       "<Figure size 432x288 with 2 Axes>"
      ]
     },
     "metadata": {
      "needs_background": "light"
     },
     "output_type": "display_data"
    }
   ],
   "source": [
    "# another model\n",
    "model_weights = Sequential()\n",
    "\n",
    "model_weights.add(Conv2D(10, (3,3), activation='relu', input_shape = (64,64,3)))\n",
    "model_weights.add(MaxPooling2D((2,2)))\n",
    "model_weights.add(Conv2D(20, (3, 3), activation='relu'))\n",
    "model_weights.add(MaxPooling2D((2, 2)))\n",
    "model_weights.add(Conv2D(20, (3, 3), activation='relu'))\n",
    "model_weights.add(Flatten())\n",
    "model_weights.add(Dense(64, activation='relu'))\n",
    "model_weights.add(Dense(16, activation='relu'))\n",
    "model_weights.add(Dense(4, activation='softmax')) # last layer has to match the amount of catagories trying to classify\n",
    "\n",
    "model_weights.compile(loss='categorical_crossentropy', \n",
    "              optimizer='adam',\n",
    "              metrics=['acc'])\n",
    "\n",
    "class_weight = {0:7,\n",
    "                1:100,\n",
    "                2:2,\n",
    "                3:3}\n",
    "\n",
    "history_weight = model_weights.fit_generator(\n",
    "        generator =train_generator,\n",
    "        validation_data = val_generator,\n",
    "        class_weight = class_weight,\n",
    "        epochs=15)\n",
    "\n",
    "num_of_val_samples = len(glob.glob('../../src/data/val/*/*.jpg'))\n",
    "\n",
    "Y_pred = model_weights.predict_generator(val_generator, num_of_val_samples// batch_size+1) # so it lines up with the batches\n",
    "y_pred = np.argmax(Y_pred, axis=1)\n",
    "target_names = ['Mild','Moderate','None','Very Mild']\n",
    "print('-----------------------Classification Report-------------------')\n",
    "print(classification_report(val_generator.classes, y_pred, target_names=target_names))\n",
    "print('------------------------Confusion Matrix---------------------------')\n",
    "\n",
    "conf = confusion_matrix(val_generator.classes, y_pred, normalize='true')\n",
    "ax = sns.heatmap(conf, annot=True, xticklabels = target_names, yticklabels= target_names);\n",
    "ax.set(xlabel='Predicted', ylabel='Actual')"
   ]
  },
  {
   "cell_type": "markdown",
   "metadata": {},
   "source": [
    "This fixed the problems I was having with the class imbalance without haveing to do data augmentation or other methods. It basically got the same accuracy score "
   ]
  },
  {
   "cell_type": "code",
   "execution_count": 145,
   "metadata": {},
   "outputs": [
    {
     "data": {
      "text/plain": [
       "<tensorflow.python.keras.callbacks.History at 0x7fba1a1e0370>"
      ]
     },
     "execution_count": 145,
     "metadata": {},
     "output_type": "execute_result"
    }
   ],
   "source": [
    "model_weights.predict"
   ]
  },
  {
   "cell_type": "code",
   "execution_count": null,
   "metadata": {},
   "outputs": [],
   "source": []
  }
 ],
 "metadata": {
  "kernelspec": {
   "display_name": "Python 3",
   "language": "python",
   "name": "python3"
  },
  "language_info": {
   "codemirror_mode": {
    "name": "ipython",
    "version": 3
   },
   "file_extension": ".py",
   "mimetype": "text/x-python",
   "name": "python",
   "nbconvert_exporter": "python",
   "pygments_lexer": "ipython3",
   "version": "3.8.3"
  }
 },
 "nbformat": 4,
 "nbformat_minor": 4
}
