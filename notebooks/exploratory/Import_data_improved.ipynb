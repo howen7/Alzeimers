{
 "cells": [
  {
   "cell_type": "code",
   "execution_count": null,
   "metadata": {},
   "outputs": [],
   "source": [
    "!kaggle datasets download -d tourist55/alzheimers-dataset-4-class-of-images -p ../../src/data3"
   ]
  },
  {
   "cell_type": "code",
   "execution_count": 2,
   "metadata": {},
   "outputs": [],
   "source": [
    "import zipfile\n",
    "with zipfile.ZipFile(\"../../src/data3/alzheimers-dataset-4-class-of-images.zip\",\"r\") as zip_ref:  #unzipping file\n",
    "    zip_ref.extractall(\"../../src/data3\")     #File path where you want to unzip it"
   ]
  },
  {
   "cell_type": "code",
   "execution_count": 3,
   "metadata": {},
   "outputs": [],
   "source": [
    "import os, shutil\n",
    "import splitfolders"
   ]
  },
  {
   "cell_type": "code",
   "execution_count": 35,
   "metadata": {},
   "outputs": [],
   "source": [
    "filepath = ['MildDemented', 'ModerateDemented', 'NonDemented', 'VeryMildDemented']\n",
    "\n",
    "for path in filepath:\n",
    "    locals()[str(path) + str('_train_dir')] = f'../../src/data3/train/{path}'  #Train_directory\n",
    "    \n",
    "    locals()[str(path) + str('_test_dir')] = f'../../src/data3/test/{path}'   #Test_directory\n",
    "    \n",
    "    locals()[str(path) + str('_images')] = [file for file in os.listdir(f'../../src/data3/test/{path}') if file.endswith('.jpg')] #Images in each dir"
   ]
  },
  {
   "cell_type": "code",
   "execution_count": 46,
   "metadata": {},
   "outputs": [],
   "source": [
    "# Combing the test and train folders so I can randomize and split off into a train,val, test\n",
    "img_list = [MildDemented_images, ModerateDemented_images, NonDemented_images, VeryMildDemented_images]\n",
    "for path, file in zip(img_list,filepath):\n",
    "    for img in path:\n",
    "        origin = os.path.join(f'../../src/data3/test/{file}', img)\n",
    "        destination = os.path.join(f'../../src/data3/train/{file}', img)\n",
    "        shutil.copyfile(origin, destination)\n",
    "        os.remove(f'../../src/data3/test/{file}'+'/'+img)\n"
   ]
  },
  {
   "cell_type": "code",
   "execution_count": null,
   "metadata": {},
   "outputs": [],
   "source": [
    "# Rename train to combined and delete empty test\n",
    "os.rename('../../src/data3/train', '../../src/data3/combined')\n",
    "os.remove('../../src/data3/test')"
   ]
  },
  {
   "cell_type": "code",
   "execution_count": null,
   "metadata": {},
   "outputs": [],
   "source": [
    "# This will split the combined folder into 3 seperate folders train, val, test with the ratio shown\n",
    "splitfolders.ratio(\"../../src/data3/combined\", output=\"../../src/data3\", seed=1337, ratio=(.7, .15, .15))"
   ]
  },
  {
   "cell_type": "code",
   "execution_count": 103,
   "metadata": {},
   "outputs": [
    {
     "name": "stdout",
     "output_type": "stream",
     "text": [
      "val MildDemented: 134\n",
      "val ModerateDemented: 9\n",
      "val NonDemented: 480\n",
      "val VeryMildDemented: 336\n",
      "train MildDemented: 627\n",
      "train ModerateDemented: 44\n",
      "train NonDemented: 2240\n",
      "train VeryMildDemented: 1568\n",
      "test MildDemented: 135\n",
      "test ModerateDemented: 11\n",
      "test NonDemented: 480\n",
      "test VeryMildDemented: 336\n"
     ]
    }
   ],
   "source": [
    "for split in ['val', 'train', 'test']:\n",
    "    for path  in filepath:\n",
    "        print(split + ' ' + path + ': ' + str(len(os.listdir(f'../../src/data3/{split}/{path}'))))"
   ]
  }
 ],
 "metadata": {
  "kernelspec": {
   "display_name": "Python 3",
   "language": "python",
   "name": "python3"
  },
  "language_info": {
   "codemirror_mode": {
    "name": "ipython",
    "version": 3
   },
   "file_extension": ".py",
   "mimetype": "text/x-python",
   "name": "python",
   "nbconvert_exporter": "python",
   "pygments_lexer": "ipython3",
   "version": "3.8.3"
  }
 },
 "nbformat": 4,
 "nbformat_minor": 4
}
