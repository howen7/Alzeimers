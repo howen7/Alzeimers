{
 "cells": [
  {
   "cell_type": "code",
   "execution_count": 1,
   "metadata": {},
   "outputs": [],
   "source": [
    "import matplotlib.pyplot as plt\n",
    "import scipy\n",
    "import numpy as np\n",
    "from PIL import Image\n",
    "from scipy import ndimage\n",
    "from keras.preprocessing.image import ImageDataGenerator, array_to_img, img_to_array, load_img"
   ]
  },
  {
   "cell_type": "markdown",
   "metadata": {},
   "source": [
    "# Designing the model"
   ]
  },
  {
   "cell_type": "code",
   "execution_count": null,
   "metadata": {},
   "outputs": [],
   "source": [
    "# Your code here; design and compile the model\n",
    "dagenerator = ImageDataGenerator(rescale=1./255)\n",
    "target_size = (64, 64)\n",
    "batch_size = 20\n",
    "\n",
    "train_generator = dagenerator.flow_from_directory(\n",
    "        train_dir,\n",
    "        target_size= target_size, batch_size = batch_size, class_mode = 'binary')\n",
    "\n",
    "val_generator = dagenerator.flow_from_directory(\n",
    "        validation_dir,\n",
    "        target_size= target_size, batch_size = batch_size, class_mode = 'binary')\n",
    "\n",
    "test_generator = dagenerator.flow_from_directory(\n",
    "        test_dir,\n",
    "        target_size= target_size, batch_size = batch_size, class_mode = 'binary')"
   ]
  }
 ],
 "metadata": {
  "kernelspec": {
   "display_name": "Python 3",
   "language": "python",
   "name": "python3"
  },
  "language_info": {
   "codemirror_mode": {
    "name": "ipython",
    "version": 3
   },
   "file_extension": ".py",
   "mimetype": "text/x-python",
   "name": "python",
   "nbconvert_exporter": "python",
   "pygments_lexer": "ipython3",
   "version": "3.8.3"
  }
 },
 "nbformat": 4,
 "nbformat_minor": 4
}
