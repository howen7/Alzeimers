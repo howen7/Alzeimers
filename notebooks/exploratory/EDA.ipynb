{
 "cells": [
  {
   "cell_type": "code",
   "execution_count": 4,
   "metadata": {},
   "outputs": [],
   "source": [
    "import os, shutil"
   ]
  },
  {
   "cell_type": "code",
   "execution_count": 5,
   "metadata": {},
   "outputs": [],
   "source": [
    "train_mild_dir = '../../src/data/train/MildDemented'\n",
    "train_moderate_dir = '../../src/data/train/ModerateDemented'\n",
    "train_nondemented_dir = '../../src/data/train/NonDemented'\n",
    "train_verymild_dir = '../../src/data/train/VeryMildDemented'\n",
    "\n",
    "val_mild_dir = '../../src/data/val/MildDemented'\n",
    "val_moderate_dir = '../../src/data/val/ModerateDemented'\n",
    "val_nondemented_dir = '../../src/data/val/NonDemented'\n",
    "val_verymild_dir = '../../src/data/val/VeryMildDemented'\n",
    "\n",
    "test_mild_dir = '../../src/data/test/MildDemented'\n",
    "test_moderate_dir = '../../src/data/test/ModerateDemented'\n",
    "test_nondemented_dir = '../../src/data/test/NonDemented'\n",
    "test_verymild_dir = '../../src/data/test/VeryMildDemented'"
   ]
  },
  {
   "cell_type": "code",
   "execution_count": 6,
   "metadata": {},
   "outputs": [
    {
     "name": "stdout",
     "output_type": "stream",
     "text": [
      " Train Mild: 574\n",
      " Train Moderate: 41\n",
      " Train Normal: 2048\n",
      " Train Very Mild: 1434\n",
      " Val Mild: 144\n",
      " Val Moderate: 11\n",
      " Val Normal: 512\n",
      " Val Very Mild: 359\n",
      " Test Mild: 179\n",
      " Test Moderate: 12\n",
      " Test Normal: 640\n",
      " Test Very Mild: 448\n"
     ]
    }
   ],
   "source": [
    "# see how many pictures are in each directory\n",
    "print(f' Train Mild: {len(os.listdir(train_mild_dir))}')\n",
    "print(f' Train Moderate: {len(os.listdir(train_moderate_dir))}')\n",
    "print(f' Train Normal: {len(os.listdir(train_nondemented_dir))}')\n",
    "print(f' Train Very Mild: {len(os.listdir(train_verymild_dir))}')\n",
    "\n",
    "print(f' Val Mild: {len(os.listdir(val_mild_dir))}')\n",
    "print(f' Val Moderate: {len(os.listdir(val_moderate_dir))}')\n",
    "print(f' Val Normal: {len(os.listdir(val_nondemented_dir))}')\n",
    "print(f' Val Very Mild: {len(os.listdir(val_verymild_dir))}')\n",
    "\n",
    "print(f' Test Mild: {len(os.listdir(test_mild_dir))}')\n",
    "print(f' Test Moderate: {len(os.listdir(test_moderate_dir))}')  \n",
    "print(f' Test Normal: {len(os.listdir(test_nondemented_dir))}')\n",
    "print(f' Test Very Mild: {len(os.listdir(test_verymild_dir))}')  "
   ]
  },
  {
   "cell_type": "code",
   "execution_count": null,
   "metadata": {},
   "outputs": [],
   "source": []
  }
 ],
 "metadata": {
  "kernelspec": {
   "display_name": "Python 3",
   "language": "python",
   "name": "python3"
  },
  "language_info": {
   "codemirror_mode": {
    "name": "ipython",
    "version": 3
   },
   "file_extension": ".py",
   "mimetype": "text/x-python",
   "name": "python",
   "nbconvert_exporter": "python",
   "pygments_lexer": "ipython3",
   "version": "3.8.3"
  }
 },
 "nbformat": 4,
 "nbformat_minor": 4
}
