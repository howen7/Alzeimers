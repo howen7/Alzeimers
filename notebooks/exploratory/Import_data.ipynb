{
 "cells": [
  {
   "cell_type": "markdown",
   "metadata": {},
   "source": [
    "# Importing the Dataset using kaggle API"
   ]
  },
  {
   "cell_type": "code",
   "execution_count": 3,
   "metadata": {
    "collapsed": true,
    "jupyter": {
     "outputs_hidden": true
    }
   },
   "outputs": [
    {
     "name": "stdout",
     "output_type": "stream",
     "text": [
      "Downloading alzheimers-dataset-4-class-of-images.zip to ../../src/data2\n",
      " 97%|████████████████████████████████████▊ | 33.0M/34.1M [00:07<00:00, 8.45MB/s]\n",
      "100%|██████████████████████████████████████| 34.1M/34.1M [00:08<00:00, 4.46MB/s]\n"
     ]
    }
   ],
   "source": [
    "!kaggle datasets download -d tourist55/alzheimers-dataset-4-class-of-images -p ../../src/data2"
   ]
  },
  {
   "cell_type": "code",
   "execution_count": 4,
   "metadata": {},
   "outputs": [],
   "source": [
    "import zipfile\n",
    "with zipfile.ZipFile(\"../../src/data2/alzheimers-dataset-4-class-of-images.zip\",\"r\") as zip_ref:  #unzipping file\n",
    "    zip_ref.extractall(\"../../src/data2\")     #File path where you want to unzip it"
   ]
  },
  {
   "cell_type": "markdown",
   "metadata": {},
   "source": [
    "### Combine test and train. Then seperate into train, val, and test randomly\n",
    "Was getting extreme differences between test and validation set which led me to believe the dataset that was scavaged from the various sights had clear differences between the test and training data. By putting them all together than randomly creating a train,val,test I would be able to create a more general model that will perform better"
   ]
  },
  {
   "cell_type": "code",
   "execution_count": 1,
   "metadata": {},
   "outputs": [],
   "source": [
    "import os, shutil\n",
    "import splitfolders"
   ]
  },
  {
   "cell_type": "code",
   "execution_count": 2,
   "metadata": {},
   "outputs": [],
   "source": [
    "# Creating path for all train,val,test\n",
    "train_mild_dir = '../../src/data2/train/MildDemented'\n",
    "train_moderate_dir = '../../src/data2/train/ModerateDemented'\n",
    "train_nondemented_dir = '../../src/data2/train/NonDemented'\n",
    "train_verymild_dir = '../../src/data2/train/VeryMildDemented'\n",
    "\n",
    "test_mild_dir = '../../src/data2/test/MildDemented'\n",
    "test_moderate_dir = '../../src/data2/test/ModerateDemented'\n",
    "test_nondemented_dir = '../../src/data2/test/NonDemented'\n",
    "test_verymild_dir = '../../src/data2/test/VeryMildDemented'"
   ]
  },
  {
   "cell_type": "code",
   "execution_count": 3,
   "metadata": {},
   "outputs": [],
   "source": [
    "imgs_Mild = [file for file in os.listdir(test_mild_dir) if file.endswith('.jpg')]\n",
    "imgs_Moderate = [file for file in os.listdir(test_moderate_dir) if file.endswith('.jpg')]\n",
    "imgs_Normal = [file for file in os.listdir(test_nondemented_dir) if file.endswith('.jpg')]\n",
    "imgs_veryMild = [file for file in os.listdir(test_verymild_dir) if file.endswith('.jpg')]"
   ]
  },
  {
   "cell_type": "code",
   "execution_count": 8,
   "metadata": {},
   "outputs": [],
   "source": [
    "# moving mild, moderate, normal, very mild to test folder\n",
    "# for img in imgs_Mild:\n",
    "#     origin = os.path.join(test_mild_dir, img)\n",
    "#     destination = os.path.join(train_mild_dir, img)\n",
    "#     shutil.copyfile(origin, destination)\n",
    "#     os.remove(test_mild_dir+'/'+img)\n",
    "\n",
    "\n",
    "# for img in imgs_Moderate:\n",
    "#     origin = os.path.join(test_moderate_dir, img)\n",
    "#     destination = os.path.join(train_moderate_dir, img)\n",
    "#     shutil.copyfile(origin, destination)\n",
    "#     os.remove(test_moderate_dir+'/'+img)\n",
    "    \n",
    "\n",
    "# for img in imgs_Normal:\n",
    "#     origin = os.path.join(test_nondemented_dir, img)\n",
    "#     destination = os.path.join(train_nondemented_dir, img)\n",
    "#     shutil.copyfile(origin, destination)\n",
    "#     os.remove(test_nondemented_dir+'/'+img)\n",
    "    \n",
    "\n",
    "# for img in imgs_veryMild:\n",
    "#     origin = os.path.join(test_verymild_dir, img)\n",
    "#     destination = os.path.join(train_verymild_dir, img)\n",
    "#     shutil.copyfile(origin, destination)\n",
    "#     os.remove(test_verymild_dir+'/'+img)\n",
    "\n",
    "os.rename('../../src/data2', '../../src/data3')"
   ]
  },
  {
   "cell_type": "code",
   "execution_count": 4,
   "metadata": {},
   "outputs": [
    {
     "name": "stdout",
     "output_type": "stream",
     "text": [
      " Train Mild: 896\n",
      " Train Moderate: 64\n",
      " Train Normal: 3200\n",
      " Train Very Mild: 2240\n",
      " Test Mild: 0\n",
      " Test Moderate: 0\n",
      " Test Normal: 0\n",
      " Test Very Mild: 0\n"
     ]
    }
   ],
   "source": [
    "print(f' Train Mild: {len(os.listdir(train_mild_dir))}')\n",
    "print(f' Train Moderate: {len(os.listdir(train_moderate_dir))}')\n",
    "print(f' Train Normal: {len(os.listdir(train_nondemented_dir))}')\n",
    "print(f' Train Very Mild: {len(os.listdir(train_verymild_dir))}')\n",
    "\n",
    "\n",
    "print(f' Test Mild: {len(os.listdir(test_mild_dir))}')\n",
    "print(f' Test Moderate: {len(os.listdir(test_moderate_dir))}')  \n",
    "print(f' Test Normal: {len(os.listdir(test_nondemented_dir))}')\n",
    "print(f' Test Very Mild: {len(os.listdir(test_verymild_dir))}')  "
   ]
  },
  {
   "cell_type": "code",
   "execution_count": null,
   "metadata": {},
   "outputs": [],
   "source": [
    "# Rename train to combined and delete empty test\n",
    "# os.rename('../../src/data2/train', '../../src/data2/combined')\n",
    "# os.remove('../../src/data2/test')"
   ]
  },
  {
   "cell_type": "code",
   "execution_count": 10,
   "metadata": {},
   "outputs": [
    {
     "name": "stderr",
     "output_type": "stream",
     "text": [
      "Copying files: 6400 files [00:07, 884.74 files/s] \n"
     ]
    }
   ],
   "source": [
    "# This will split the combined folder into 3 seperate folders train, val, test with the ratio shown\n",
    "splitfolders.ratio(\"../../src/data2/combined\", output=\"../../src/data2\", seed=1337, ratio=(.7, .15, .15))"
   ]
  },
  {
   "cell_type": "code",
   "execution_count": 11,
   "metadata": {},
   "outputs": [
    {
     "name": "stdout",
     "output_type": "stream",
     "text": [
      " Train Mild: 627\n",
      " Train Moderate: 44\n",
      " Train Normal: 2240\n",
      " Train Very Mild: 1568\n",
      " Val Mild: 134\n",
      " Val Moderate: 9\n",
      " Val Normal: 480\n",
      " Val Very Mild: 336\n",
      " Test Mild: 135\n",
      " Test Moderate: 11\n",
      " Test Normal: 480\n",
      " Test Very Mild: 336\n"
     ]
    }
   ],
   "source": [
    "val_mild_dir = '../../src/data2/val/MildDemented'\n",
    "val_moderate_dir = '../../src/data2/val/ModerateDemented'\n",
    "val_nondemented_dir = '../../src/data2/val/NonDemented'\n",
    "val_verymild_dir = '../../src/data2/val/VeryMildDemented'\n",
    "\n",
    "print(f' Train Mild: {len(os.listdir(train_mild_dir))}')\n",
    "print(f' Train Moderate: {len(os.listdir(train_moderate_dir))}')\n",
    "print(f' Train Normal: {len(os.listdir(train_nondemented_dir))}')\n",
    "print(f' Train Very Mild: {len(os.listdir(train_verymild_dir))}')\n",
    "\n",
    "print(f' Val Mild: {len(os.listdir(val_mild_dir))}')\n",
    "print(f' Val Moderate: {len(os.listdir(val_moderate_dir))}')\n",
    "print(f' Val Normal: {len(os.listdir(val_nondemented_dir))}')\n",
    "print(f' Val Very Mild: {len(os.listdir(val_verymild_dir))}')\n",
    "\n",
    "print(f' Test Mild: {len(os.listdir(test_mild_dir))}')\n",
    "print(f' Test Moderate: {len(os.listdir(test_moderate_dir))}')  \n",
    "print(f' Test Normal: {len(os.listdir(test_nondemented_dir))}')\n",
    "print(f' Test Very Mild: {len(os.listdir(test_verymild_dir))}')  "
   ]
  }
 ],
 "metadata": {
  "kernelspec": {
   "display_name": "Python 3",
   "language": "python",
   "name": "python3"
  },
  "language_info": {
   "codemirror_mode": {
    "name": "ipython",
    "version": 3
   },
   "file_extension": ".py",
   "mimetype": "text/x-python",
   "name": "python",
   "nbconvert_exporter": "python",
   "pygments_lexer": "ipython3",
   "version": "3.8.3"
  }
 },
 "nbformat": 4,
 "nbformat_minor": 4
}
