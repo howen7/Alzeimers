{
 "cells": [
  {
   "cell_type": "code",
   "execution_count": 1,
   "metadata": {},
   "outputs": [
    {
     "name": "stdout",
     "output_type": "stream",
     "text": [
      "Downloading alzheimers-dataset-4-class-of-images.zip to ../../src/data\n",
      "100%|█████████████████████████████████████▊| 34.0M/34.1M [00:04<00:00, 9.29MB/s]\n",
      "100%|██████████████████████████████████████| 34.1M/34.1M [00:04<00:00, 8.67MB/s]\n"
     ]
    }
   ],
   "source": [
    "!kaggle datasets download -d tourist55/alzheimers-dataset-4-class-of-images -p ../../src/data"
   ]
  },
  {
   "cell_type": "code",
   "execution_count": 2,
   "metadata": {},
   "outputs": [],
   "source": [
    "import zipfile\n",
    "with zipfile.ZipFile(\"../../src/data/alzheimers-dataset-4-class-of-images.zip\",\"r\") as zip_ref:  #unzipping file\n",
    "    zip_ref.extractall(\"../../src/data\")     #File path where you want to unzip it"
   ]
  }
 ],
 "metadata": {
  "kernelspec": {
   "display_name": "Python 3",
   "language": "python",
   "name": "python3"
  },
  "language_info": {
   "codemirror_mode": {
    "name": "ipython",
    "version": 3
   },
   "file_extension": ".py",
   "mimetype": "text/x-python",
   "name": "python",
   "nbconvert_exporter": "python",
   "pygments_lexer": "ipython3",
   "version": "3.8.3"
  }
 },
 "nbformat": 4,
 "nbformat_minor": 4
}
