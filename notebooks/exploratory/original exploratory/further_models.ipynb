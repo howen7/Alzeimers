{
 "cells": [
  {
   "cell_type": "code",
   "execution_count": 170,
   "metadata": {},
   "outputs": [],
   "source": [
    "import matplotlib.pyplot as plt\n",
    "import scipy\n",
    "import numpy as np\n",
    "import os \n",
    "import glob\n",
    "import seaborn as sns\n",
    "\n",
    "from PIL import Image\n",
    "from scipy import ndimage\n",
    "\n",
    "\n",
    "from sklearn import metrics\n",
    "from sklearn.metrics import confusion_matrix, classification_report, plot_confusion_matrix\n",
    "\n",
    "from keras import models\n",
    "from keras.preprocessing import image\n",
    "from keras.preprocessing.image import ImageDataGenerator, array_to_img, img_to_array, load_img\n",
    "from keras.models import Sequential\n",
    "from keras.layers import Conv2D, MaxPooling2D\n",
    "from keras.layers import Activation, Dropout, Flatten, Dense\n",
    "from keras.metrics import AUC"
   ]
  },
  {
   "cell_type": "code",
   "execution_count": 31,
   "metadata": {},
   "outputs": [
    {
     "name": "stdout",
     "output_type": "stream",
     "text": [
      "Found 4101 images belonging to 4 classes.\n",
      "Found 1026 images belonging to 4 classes.\n",
      "Found 1279 images belonging to 4 classes.\n",
      "Epoch 1/15\n",
      "411/411 [==============================] - 6s 14ms/step - loss: 1.0084 - acc: 0.5033 - val_loss: 0.9555 - val_acc: 0.5341\n",
      "Epoch 2/15\n",
      "411/411 [==============================] - 6s 15ms/step - loss: 0.8758 - acc: 0.5716 - val_loss: 0.8361 - val_acc: 0.5936\n",
      "Epoch 3/15\n",
      "411/411 [==============================] - 7s 17ms/step - loss: 0.7974 - acc: 0.6177 - val_loss: 0.7800 - val_acc: 0.6384\n",
      "Epoch 4/15\n",
      "411/411 [==============================] - 7s 18ms/step - loss: 0.6985 - acc: 0.6767 - val_loss: 0.7009 - val_acc: 0.6988\n",
      "Epoch 5/15\n",
      "411/411 [==============================] - 8s 19ms/step - loss: 0.5838 - acc: 0.7359 - val_loss: 0.6130 - val_acc: 0.7368\n",
      "Epoch 6/15\n",
      "411/411 [==============================] - 8s 20ms/step - loss: 0.4612 - acc: 0.7940 - val_loss: 0.6338 - val_acc: 0.7242\n",
      "Epoch 7/15\n",
      "411/411 [==============================] - 9s 21ms/step - loss: 0.3220 - acc: 0.8747 - val_loss: 0.5464 - val_acc: 0.7817\n",
      "Epoch 8/15\n",
      "411/411 [==============================] - 9s 22ms/step - loss: 0.2275 - acc: 0.9120 - val_loss: 0.4079 - val_acc: 0.8694\n",
      "Epoch 9/15\n",
      "411/411 [==============================] - 9s 22ms/step - loss: 0.1403 - acc: 0.9483 - val_loss: 0.2120 - val_acc: 0.9259\n",
      "Epoch 10/15\n",
      "411/411 [==============================] - 9s 23ms/step - loss: 0.0856 - acc: 0.9695 - val_loss: 0.2800 - val_acc: 0.9162\n",
      "Epoch 11/15\n",
      "411/411 [==============================] - 10s 23ms/step - loss: 0.0691 - acc: 0.9759 - val_loss: 0.2931 - val_acc: 0.9172\n",
      "Epoch 12/15\n",
      "411/411 [==============================] - 10s 24ms/step - loss: 0.0790 - acc: 0.9705 - val_loss: 0.2089 - val_acc: 0.9376\n",
      "Epoch 13/15\n",
      "411/411 [==============================] - 10s 24ms/step - loss: 0.0539 - acc: 0.9815 - val_loss: 0.3047 - val_acc: 0.9230\n",
      "Epoch 14/15\n",
      "411/411 [==============================] - 10s 26ms/step - loss: 0.0408 - acc: 0.9866 - val_loss: 0.2269 - val_acc: 0.9405\n",
      "Epoch 15/15\n",
      "411/411 [==============================] - 10s 25ms/step - loss: 0.0526 - acc: 0.9834 - val_loss: 0.2311 - val_acc: 0.9542\n"
     ]
    }
   ],
   "source": [
    "train_dir = '../../src/data/train'\n",
    "validation_dir = '../../src/data/val'\n",
    "test_dir = '../../src/data/test'\n",
    "\n",
    "\n",
    "dagenerator = ImageDataGenerator(rescale=1./255)\n",
    "target_size = (64, 64)\n",
    "batch_size = 10\n",
    "num_of_test_samples = len(glob.glob('../../src/data/test/*/*.jpg'))\n",
    "\n",
    "\n",
    "train_generator = dagenerator.flow_from_directory(\n",
    "        train_dir,\n",
    "        target_size= target_size, \n",
    "        batch_size = batch_size)\n",
    "\n",
    "val_generator = dagenerator.flow_from_directory(\n",
    "        validation_dir,\n",
    "        target_size= target_size, \n",
    "        batch_size = batch_size,\n",
    "        shuffle=False)\n",
    "\n",
    "test_generator = dagenerator.flow_from_directory(\n",
    "        test_dir,\n",
    "        target_size= target_size, \n",
    "        batch_size = num_of_test_samples, #All images in test set \n",
    "        shuffle=False)\n",
    "\n",
    "\n",
    "# 2nd model\n",
    "model = Sequential()\n",
    "\n",
    "model.add(Conv2D(10, (3,3), activation='relu', input_shape = (64,64,3)))\n",
    "model.add(MaxPooling2D((2,2)))\n",
    "model.add(Conv2D(20, (3, 3), activation='relu'))\n",
    "model.add(MaxPooling2D((2, 2)))\n",
    "model.add(Conv2D(20, (3, 3), activation='relu'))\n",
    "model.add(Flatten())\n",
    "model.add(Dense(64, activation='relu'))\n",
    "model.add(Dense(16, activation='relu'))\n",
    "model.add(Dense(4, activation='softmax')) # last layer has to match the amount of catagories trying to classify\n",
    "\n",
    "model.compile(loss='categorical_crossentropy', \n",
    "              optimizer='adam',\n",
    "              metrics=['acc'])\n",
    "\n",
    "history = model.fit_generator(\n",
    "        generator =train_generator,\n",
    "        validation_data = val_generator,\n",
    "        epochs=15)"
   ]
  },
  {
   "cell_type": "code",
   "execution_count": 32,
   "metadata": {},
   "outputs": [
    {
     "name": "stdout",
     "output_type": "stream",
     "text": [
      "WARNING:tensorflow:From <ipython-input-32-9b1949980010>:4: Model.predict_generator (from tensorflow.python.keras.engine.training) is deprecated and will be removed in a future version.\n",
      "Instructions for updating:\n",
      "Please use Model.predict, which supports generators.\n",
      "-----------------------Classification Report-------------------\n",
      "              precision    recall  f1-score   support\n",
      "\n",
      "        Mild       0.95      0.85      0.89       144\n",
      "    Moderate       1.00      0.45      0.62        11\n",
      "        None       0.97      0.98      0.97       512\n",
      "   Very Mild       0.94      0.97      0.95       359\n",
      "\n",
      "    accuracy                           0.95      1026\n",
      "   macro avg       0.96      0.81      0.86      1026\n",
      "weighted avg       0.95      0.95      0.95      1026\n",
      "\n",
      "------------------------Confusion Matrix---------------------------\n"
     ]
    },
    {
     "data": {
      "text/plain": [
       "[Text(33.0, 0.5, 'Actual'), Text(0.5, 15.0, 'Predicted')]"
      ]
     },
     "execution_count": 32,
     "metadata": {},
     "output_type": "execute_result"
    },
    {
     "data": {
      "image/png": "[encoded data removed]",
      "text/plain": [
       "<Figure size 432x288 with 2 Axes>"
      ]
     },
     "metadata": {
      "needs_background": "light"
     },
     "output_type": "display_data"
    }
   ],
   "source": [
    "#Confution Matrix and Classification Report\n",
    "num_of_val_samples = len(glob.glob('../../src/data/val/*/*.jpg'))\n",
    "\n",
    "Y_pred = model.predict_generator(val_generator, num_of_val_samples// batch_size+1) # so it lines up with the batches\n",
    "y_pred = np.argmax(Y_pred, axis=1)\n",
    "target_names = ['Mild','Moderate','None','Very Mild']\n",
    "print('-----------------------Classification Report-------------------')\n",
    "print(classification_report(val_generator.classes, y_pred, target_names=target_names))\n",
    "print('------------------------Confusion Matrix---------------------------')\n",
    "\n",
    "conf = confusion_matrix(val_generator.classes, y_pred, normalize='true')\n",
    "ax = sns.heatmap(conf, annot=True, xticklabels = target_names, yticklabels= target_names);\n",
    "ax.set(xlabel='Predicted', ylabel='Actual')"
   ]
  },
  {
   "cell_type": "markdown",
   "metadata": {},
   "source": [
    "# Trying method to fix class imbalance"
   ]
  },
  {
   "cell_type": "markdown",
   "metadata": {},
   "source": [
    "### Adding Class weight to balance train"
   ]
  },
  {
   "cell_type": "code",
   "execution_count": 180,
   "metadata": {},
   "outputs": [
    {
     "name": "stdout",
     "output_type": "stream",
     "text": [
      " MildDemented: 0.1397220190197513\n",
      " ModerateDemented: 0.009997561570348696\n",
      " NonDemented: 0.4993903925871739\n",
      " VeryMildDemented: 0.3494269690319434\n"
     ]
    }
   ],
   "source": [
    "class_name = ['MildDemented', 'ModerateDemented', 'NonDemented', 'VeryMildDemented']\n",
    "for i in class_name:\n",
    "    print(f\" {i}: {(len(glob.glob(f'../../src/data/train/{i}/*.jpg'))/4101)}\")"
   ]
  },
  {
   "cell_type": "code",
   "execution_count": 172,
   "metadata": {},
   "outputs": [
    {
     "name": "stdout",
     "output_type": "stream",
     "text": [
      "Epoch 1/15\n",
      "411/411 [==============================] - 7s 16ms/step - loss: 5.5574 - acc: 0.4362 - auc: 0.7138 - val_loss: 1.2498 - val_acc: 0.4951 - val_auc: 0.7549\n",
      "Epoch 2/15\n",
      "411/411 [==============================] - 7s 17ms/step - loss: 5.0904 - acc: 0.5023 - auc: 0.7739 - val_loss: 1.1766 - val_acc: 0.4035 - val_auc: 0.7061\n",
      "Epoch 3/15\n",
      "411/411 [==============================] - 8s 19ms/step - loss: 4.2922 - acc: 0.5021 - auc: 0.7807 - val_loss: 0.9542 - val_acc: 0.5478 - val_auc: 0.8291\n",
      "Epoch 4/15\n",
      "411/411 [==============================] - 9s 22ms/step - loss: 3.3146 - acc: 0.5660 - auc: 0.8338 - val_loss: 0.8567 - val_acc: 0.5975 - val_auc: 0.8620\n",
      "Epoch 5/15\n",
      "411/411 [==============================] - 11s 26ms/step - loss: 2.5819 - acc: 0.6216 - auc: 0.8712 - val_loss: 0.7865 - val_acc: 0.6413 - val_auc: 0.8845\n",
      "Epoch 6/15\n",
      "411/411 [==============================] - 10s 23ms/step - loss: 2.1091 - acc: 0.6669 - auc: 0.8989 - val_loss: 0.7937 - val_acc: 0.6296 - val_auc: 0.8810\n",
      "Epoch 7/15\n",
      "411/411 [==============================] - 10s 24ms/step - loss: 1.8579 - acc: 0.7018 - auc: 0.9176 - val_loss: 0.6690 - val_acc: 0.7076 - val_auc: 0.9180\n",
      "Epoch 8/15\n",
      "411/411 [==============================] - 10s 25ms/step - loss: 1.5278 - acc: 0.7503 - auc: 0.9407 - val_loss: 0.5793 - val_acc: 0.7505 - val_auc: 0.9378\n",
      "Epoch 9/15\n",
      "411/411 [==============================] - 11s 26ms/step - loss: 1.1987 - acc: 0.7981 - auc: 0.9607 - val_loss: 0.5102 - val_acc: 0.7749 - val_auc: 0.9517\n",
      "Epoch 10/15\n",
      "411/411 [==============================] - 11s 27ms/step - loss: 0.9479 - acc: 0.8474 - auc: 0.9747 - val_loss: 0.5298 - val_acc: 0.7924 - val_auc: 0.9501\n",
      "Epoch 11/15\n",
      "411/411 [==============================] - 11s 26ms/step - loss: 0.7229 - acc: 0.8869 - auc: 0.9853 - val_loss: 0.4424 - val_acc: 0.8431 - val_auc: 0.9677\n",
      "Epoch 12/15\n",
      "411/411 [==============================] - 11s 26ms/step - loss: 0.4798 - acc: 0.9251 - auc: 0.9934 - val_loss: 0.3443 - val_acc: 0.8733 - val_auc: 0.9802\n",
      "Epoch 13/15\n",
      "411/411 [==============================] - 11s 26ms/step - loss: 0.3759 - acc: 0.9439 - auc: 0.9960 - val_loss: 0.2831 - val_acc: 0.8967 - val_auc: 0.9849\n",
      "Epoch 14/15\n",
      "411/411 [==============================] - 11s 26ms/step - loss: 0.3335 - acc: 0.9512 - auc: 0.9963 - val_loss: 0.2790 - val_acc: 0.8977 - val_auc: 0.9858\n",
      "Epoch 15/15\n",
      "411/411 [==============================] - 11s 26ms/step - loss: 0.1831 - acc: 0.9759 - auc: 0.9992 - val_loss: 0.2703 - val_acc: 0.9201 - val_auc: 0.9870\n",
      "-----------------------Classification Report-------------------\n",
      "              precision    recall  f1-score   support\n",
      "\n",
      "        Mild       0.92      0.84      0.88       144\n",
      "    Moderate       1.00      0.91      0.95        11\n",
      "        None       0.91      0.97      0.94       512\n",
      "   Very Mild       0.93      0.87      0.90       359\n",
      "\n",
      "    accuracy                           0.92      1026\n",
      "   macro avg       0.94      0.90      0.92      1026\n",
      "weighted avg       0.92      0.92      0.92      1026\n",
      "\n",
      "------------------------Confusion Matrix---------------------------\n"
     ]
    },
    {
     "data": {
      "text/plain": [
       "[Text(33.0, 0.5, 'Actual'), Text(0.5, 15.0, 'Predicted')]"
      ]
     },
     "execution_count": 172,
     "metadata": {},
     "output_type": "execute_result"
    },
    {
     "data": {
      "image/png": "[encoded data removed]",
      "text/plain": [
       "<Figure size 432x288 with 2 Axes>"
      ]
     },
     "metadata": {
      "needs_background": "light"
     },
     "output_type": "display_data"
    }
   ],
   "source": [
    "# another model\n",
    "model_weights = Sequential()\n",
    "\n",
    "model_weights.add(Conv2D(10, (3,3), activation='relu', input_shape = (64,64,3)))\n",
    "model_weights.add(MaxPooling2D((2,2)))\n",
    "model_weights.add(Conv2D(20, (3, 3), activation='relu'))\n",
    "model_weights.add(MaxPooling2D((2, 2)))\n",
    "model_weights.add(Conv2D(20, (3, 3), activation='relu'))\n",
    "model_weights.add(Flatten())\n",
    "model_weights.add(Dense(64, activation='relu'))\n",
    "model_weights.add(Dense(16, activation='relu'))\n",
    "model_weights.add(Dense(4, activation='softmax')) # last layer has to match the amount of catagories trying to classify\n",
    "\n",
    "model_weights.compile(loss='categorical_crossentropy', \n",
    "              optimizer='adam',\n",
    "              metrics=['acc','AUC'])\n",
    "\n",
    "class_weight = {0:7,\n",
    "                1:100,\n",
    "                2:2,\n",
    "                3:3}\n",
    "\n",
    "history_weight = model_weights.fit_generator(\n",
    "        generator =train_generator,\n",
    "        validation_data = val_generator,\n",
    "        class_weight = class_weight,\n",
    "        epochs=15)\n",
    "\n",
    "num_of_val_samples = len(glob.glob('../../src/data/val/*/*.jpg'))\n",
    "\n",
    "Y_pred = model_weights.predict_generator(val_generator, num_of_val_samples// batch_size+1) # so it lines up with the batches\n",
    "y_pred = np.argmax(Y_pred, axis=1)\n",
    "target_names = ['Mild','Moderate','None','Very Mild']\n",
    "print('-----------------------Classification Report-------------------')\n",
    "print(classification_report(val_generator.classes, y_pred, target_names=target_names))\n",
    "print('------------------------Confusion Matrix---------------------------')\n",
    "\n",
    "conf = confusion_matrix(val_generator.classes, y_pred, normalize='true')\n",
    "ax = sns.heatmap(conf, annot=True, xticklabels = target_names, yticklabels= target_names);\n",
    "ax.set(xlabel='Predicted', ylabel='Actual')"
   ]
  },
  {
   "cell_type": "markdown",
   "metadata": {},
   "source": [
    "This fixed the problems I was having with the class imbalance without haveing to do data augmentation or other methods. It basically got the same accuracy score "
   ]
  },
  {
   "cell_type": "code",
   "execution_count": 174,
   "metadata": {},
   "outputs": [],
   "source": [
    "test_predictions = np.argmax(model_weights.predict(test_generator), axis=1)"
   ]
  },
  {
   "cell_type": "code",
   "execution_count": 175,
   "metadata": {
    "collapsed": true,
    "jupyter": {
     "outputs_hidden": true
    }
   },
   "outputs": [
    {
     "data": {
      "text/plain": [
       "array([0, 0, 0, 3, 3, 0, 3, 2, 0, 0, 2, 3, 3, 3, 2, 3, 0, 3, 3, 2, 3, 0,\n",
       "       0, 0, 3, 2, 3, 3, 2, 3, 0, 3, 2, 2, 3, 2, 3, 3, 2, 3, 3, 3, 2, 3,\n",
       "       0, 3, 2, 2, 3, 0, 0, 2, 3, 2, 3, 3, 2, 3, 3, 3, 2, 2, 3, 2, 0, 3,\n",
       "       3, 0, 3, 3, 3, 3, 2, 2, 3, 3, 2, 0, 3, 2, 3, 2, 3, 3, 3, 3, 2, 3,\n",
       "       2, 2, 3, 2, 0, 3, 3, 2, 3, 2, 2, 3, 2, 2, 3, 2, 3, 0, 2, 2, 3, 2,\n",
       "       3, 3, 3, 2, 2, 3, 2, 3, 2, 2, 3, 2, 3, 2, 3, 2, 2, 3, 2, 2, 2, 2,\n",
       "       3, 2, 2, 2, 3, 2, 2, 2, 3, 2, 2, 3, 2, 2, 2, 2, 3, 2, 3, 2, 3, 2,\n",
       "       2, 3, 2, 2, 2, 2, 2, 2, 2, 2, 2, 2, 2, 2, 2, 2, 2, 2, 2, 2, 2, 3,\n",
       "       3, 2, 3, 3, 3, 3, 2, 3, 2, 3, 2, 3, 2, 3, 2, 2, 2, 2, 2, 2, 2, 2,\n",
       "       2, 2, 2, 2, 2, 2, 2, 2, 2, 2, 2, 2, 2, 2, 2, 2, 2, 2, 2, 2, 2, 2,\n",
       "       2, 2, 3, 2, 2, 2, 2, 2, 2, 2, 2, 2, 2, 2, 2, 2, 2, 3, 2, 2, 2, 2,\n",
       "       2, 2, 2, 2, 2, 2, 2, 2, 2, 2, 2, 3, 2, 2, 2, 2, 2, 3, 2, 2, 2, 2,\n",
       "       2, 2, 2, 2, 2, 2, 3, 2, 2, 2, 2, 2, 0, 2, 2, 2, 2, 2, 2, 2, 2, 3,\n",
       "       2, 2, 2, 2, 2, 3, 3, 2, 2, 3, 3, 2, 2, 2, 2, 2, 2, 2, 2, 2, 2, 2,\n",
       "       2, 2, 2, 2, 2, 2, 2, 2, 2, 2, 2, 2, 2, 2, 3, 2, 2, 2, 2, 2, 3, 2,\n",
       "       2, 2, 2, 2, 2, 2, 2, 3, 2, 2, 2, 2, 2, 2, 2, 2, 2, 2, 2, 2, 2, 2,\n",
       "       2, 3, 3, 2, 2, 2, 2, 3, 2, 2, 2, 2, 2, 2, 2, 2, 2, 2, 3, 2, 2, 3,\n",
       "       2, 2, 0, 2, 2, 2, 2, 2, 2, 2, 2, 3, 2, 2, 3, 2, 2, 3, 2, 2, 2, 3,\n",
       "       3, 3, 2, 2, 2, 3, 2, 2, 2, 2, 2, 2, 2, 3, 2, 3, 2, 2, 2, 3, 2, 2,\n",
       "       2, 2, 2, 3, 3, 2, 3, 2, 2, 2, 3, 2, 2, 2, 2, 3, 2, 2, 2, 2, 2, 2,\n",
       "       2, 2, 3, 2, 2, 2, 2, 2, 2, 2, 2, 2, 2, 3, 2, 2, 2, 2, 2, 3, 2, 2,\n",
       "       0, 2, 2, 2, 2, 2, 2, 2, 3, 2, 2, 2, 2, 3, 3, 3, 2, 2, 2, 2, 2, 2,\n",
       "       2, 3, 2, 3, 3, 2, 2, 2, 2, 2, 2, 3, 3, 3, 2, 2, 3, 2, 3, 3, 3, 2,\n",
       "       2, 2, 2, 2, 2, 3, 2, 2, 2, 3, 2, 2, 2, 2, 2, 2, 2, 2, 3, 2, 2, 2,\n",
       "       3, 3, 2, 2, 2, 3, 2, 2, 2, 2, 2, 2, 2, 2, 3, 2, 2, 2, 2, 2, 2, 2,\n",
       "       2, 2, 2, 3, 2, 2, 2, 2, 2, 3, 2, 2, 3, 2, 2, 2, 2, 2, 2, 2, 3, 2,\n",
       "       2, 2, 2, 3, 3, 3, 2, 2, 2, 2, 3, 2, 2, 2, 2, 2, 3, 2, 2, 2, 2, 2,\n",
       "       2, 3, 2, 2, 2, 2, 3, 2, 2, 3, 3, 2, 3, 2, 2, 2, 3, 3, 2, 2, 2, 3,\n",
       "       2, 2, 2, 2, 2, 2, 2, 2, 3, 2, 2, 2, 2, 2, 2, 2, 2, 3, 2, 2, 2, 2,\n",
       "       2, 2, 2, 2, 2, 2, 2, 2, 2, 2, 2, 2, 2, 2, 2, 3, 2, 2, 2, 2, 2, 3,\n",
       "       2, 2, 3, 2, 2, 2, 2, 2, 3, 2, 2, 2, 2, 2, 3, 3, 3, 3, 3, 2, 2, 2,\n",
       "       3, 2, 3, 2, 2, 2, 3, 2, 2, 2, 2, 2, 2, 3, 2, 2, 2, 2, 3, 2, 2, 2,\n",
       "       3, 2, 3, 2, 2, 2, 3, 3, 3, 2, 2, 2, 2, 2, 2, 2, 2, 2, 2, 2, 3, 2,\n",
       "       2, 2, 3, 2, 2, 2, 2, 2, 2, 2, 2, 2, 2, 2, 2, 2, 2, 2, 2, 3, 2, 2,\n",
       "       3, 2, 2, 2, 2, 3, 2, 2, 2, 2, 2, 3, 2, 2, 3, 2, 2, 2, 2, 3, 2, 2,\n",
       "       2, 2, 2, 2, 3, 3, 3, 3, 3, 2, 2, 2, 3, 2, 3, 2, 2, 2, 3, 3, 2, 2,\n",
       "       2, 2, 2, 3, 2, 3, 2, 2, 3, 2, 2, 2, 3, 2, 3, 2, 2, 2, 2, 2, 3, 2,\n",
       "       2, 2, 2, 2, 3, 2, 2, 2, 2, 2, 2, 2, 2, 2, 3, 2, 2, 2, 2, 2, 2, 2,\n",
       "       3, 3, 3, 3, 3, 3, 3, 3, 3, 3, 3, 3, 2, 3, 3, 3, 3, 3, 2, 3, 3, 3,\n",
       "       3, 2, 2, 2, 3, 3, 2, 3, 2, 2, 3, 3, 3, 3, 3, 3, 3, 3, 3, 2, 2, 3,\n",
       "       2, 3, 3, 3, 3, 3, 3, 2, 3, 3, 2, 2, 3, 3, 3, 3, 3, 3, 3, 3, 3, 3,\n",
       "       3, 3, 2, 3, 3, 2, 3, 2, 3, 3, 3, 2, 2, 3, 3, 0, 3, 3, 3, 2, 3, 3,\n",
       "       3, 2, 2, 2, 2, 3, 2, 3, 2, 3, 2, 2, 2, 2, 3, 2, 2, 3, 3, 3, 3, 3,\n",
       "       3, 2, 2, 3, 2, 3, 2, 3, 3, 3, 2, 2, 3, 3, 2, 2, 3, 3, 3, 3, 3, 3,\n",
       "       3, 3, 3, 3, 3, 3, 3, 3, 3, 2, 3, 2, 3, 3, 3, 3, 2, 3, 3, 0, 3, 3,\n",
       "       3, 3, 2, 3, 3, 2, 2, 3, 2, 3, 2, 3, 2, 3, 2, 2, 2, 2, 2, 2, 3, 3,\n",
       "       3, 2, 3, 3, 3, 2, 2, 3, 2, 3, 2, 3, 3, 2, 2, 2, 3, 2, 2, 2, 2, 3,\n",
       "       3, 3, 3, 3, 3, 3, 3, 2, 2, 2, 3, 3, 3, 2, 3, 2, 3, 2, 2, 3, 2, 3,\n",
       "       3, 0, 3, 3, 3, 3, 2, 3, 2, 2, 3, 3, 2, 3, 3, 2, 2, 3, 2, 2, 2, 2,\n",
       "       2, 2, 3, 3, 3, 2, 3, 3, 2, 2, 2, 3, 2, 3, 2, 3, 2, 2, 2, 2, 3, 2,\n",
       "       2, 2, 2, 3, 3, 3, 2, 3, 2, 2, 3, 2, 2, 2, 3, 3, 2, 2, 2, 2, 3, 2,\n",
       "       2, 2, 2, 2, 3, 0, 3, 2, 3, 3, 3, 3, 2, 3, 2, 3, 2, 3, 3, 2, 2, 3,\n",
       "       2, 2, 2, 2, 2, 2, 3, 3, 3, 2, 2, 2, 3, 3, 2, 3, 2, 2, 2, 3, 3, 2,\n",
       "       2, 2, 3, 2, 2, 2, 2, 3, 2, 3, 2, 3, 3, 2, 3, 2, 3, 2, 3, 2, 2, 2,\n",
       "       2, 2, 3, 2, 2, 2, 2, 2, 3, 0, 3, 2, 3, 3, 2, 3, 2, 3, 2, 2, 2, 3,\n",
       "       3, 2, 2, 3, 2, 2, 2, 2, 2, 2, 3, 3, 2, 2, 2, 2, 3, 3, 2, 3, 2, 2,\n",
       "       2, 2, 2, 2, 2, 2, 3, 2, 2, 2, 2, 3, 2, 2, 2, 3, 2, 3, 3, 2, 3, 2,\n",
       "       3, 2, 2, 2, 2, 2, 3, 2, 3, 3, 2, 2, 3, 0, 3, 2, 2, 3, 2, 3, 2, 3,\n",
       "       2, 2, 2, 3, 3, 3, 2, 2])"
      ]
     },
     "execution_count": 175,
     "metadata": {},
     "output_type": "execute_result"
    }
   ],
   "source": [
    "test_predictions"
   ]
  },
  {
   "cell_type": "code",
   "execution_count": 176,
   "metadata": {
    "collapsed": true,
    "jupyter": {
     "outputs_hidden": true
    }
   },
   "outputs": [
    {
     "data": {
      "text/plain": [
       "array([0, 0, 0, 0, 0, 0, 0, 0, 0, 0, 0, 0, 0, 0, 0, 0, 0, 0, 0, 0, 0, 0,\n",
       "       0, 0, 0, 0, 0, 0, 0, 0, 0, 0, 0, 0, 0, 0, 0, 0, 0, 0, 0, 0, 0, 0,\n",
       "       0, 0, 0, 0, 0, 0, 0, 0, 0, 0, 0, 0, 0, 0, 0, 0, 0, 0, 0, 0, 0, 0,\n",
       "       0, 0, 0, 0, 0, 0, 0, 0, 0, 0, 0, 0, 0, 0, 0, 0, 0, 0, 0, 0, 0, 0,\n",
       "       0, 0, 0, 0, 0, 0, 0, 0, 0, 0, 0, 0, 0, 0, 0, 0, 0, 0, 0, 0, 0, 0,\n",
       "       0, 0, 0, 0, 0, 0, 0, 0, 0, 0, 0, 0, 0, 0, 0, 0, 0, 0, 0, 0, 0, 0,\n",
       "       0, 0, 0, 0, 0, 0, 0, 0, 0, 0, 0, 0, 0, 0, 0, 0, 0, 0, 0, 0, 0, 0,\n",
       "       0, 0, 0, 0, 0, 0, 0, 0, 0, 0, 0, 0, 0, 0, 0, 0, 0, 0, 0, 0, 0, 0,\n",
       "       0, 0, 0, 1, 1, 1, 1, 1, 1, 1, 1, 1, 1, 1, 1, 2, 2, 2, 2, 2, 2, 2,\n",
       "       2, 2, 2, 2, 2, 2, 2, 2, 2, 2, 2, 2, 2, 2, 2, 2, 2, 2, 2, 2, 2, 2,\n",
       "       2, 2, 2, 2, 2, 2, 2, 2, 2, 2, 2, 2, 2, 2, 2, 2, 2, 2, 2, 2, 2, 2,\n",
       "       2, 2, 2, 2, 2, 2, 2, 2, 2, 2, 2, 2, 2, 2, 2, 2, 2, 2, 2, 2, 2, 2,\n",
       "       2, 2, 2, 2, 2, 2, 2, 2, 2, 2, 2, 2, 2, 2, 2, 2, 2, 2, 2, 2, 2, 2,\n",
       "       2, 2, 2, 2, 2, 2, 2, 2, 2, 2, 2, 2, 2, 2, 2, 2, 2, 2, 2, 2, 2, 2,\n",
       "       2, 2, 2, 2, 2, 2, 2, 2, 2, 2, 2, 2, 2, 2, 2, 2, 2, 2, 2, 2, 2, 2,\n",
       "       2, 2, 2, 2, 2, 2, 2, 2, 2, 2, 2, 2, 2, 2, 2, 2, 2, 2, 2, 2, 2, 2,\n",
       "       2, 2, 2, 2, 2, 2, 2, 2, 2, 2, 2, 2, 2, 2, 2, 2, 2, 2, 2, 2, 2, 2,\n",
       "       2, 2, 2, 2, 2, 2, 2, 2, 2, 2, 2, 2, 2, 2, 2, 2, 2, 2, 2, 2, 2, 2,\n",
       "       2, 2, 2, 2, 2, 2, 2, 2, 2, 2, 2, 2, 2, 2, 2, 2, 2, 2, 2, 2, 2, 2,\n",
       "       2, 2, 2, 2, 2, 2, 2, 2, 2, 2, 2, 2, 2, 2, 2, 2, 2, 2, 2, 2, 2, 2,\n",
       "       2, 2, 2, 2, 2, 2, 2, 2, 2, 2, 2, 2, 2, 2, 2, 2, 2, 2, 2, 2, 2, 2,\n",
       "       2, 2, 2, 2, 2, 2, 2, 2, 2, 2, 2, 2, 2, 2, 2, 2, 2, 2, 2, 2, 2, 2,\n",
       "       2, 2, 2, 2, 2, 2, 2, 2, 2, 2, 2, 2, 2, 2, 2, 2, 2, 2, 2, 2, 2, 2,\n",
       "       2, 2, 2, 2, 2, 2, 2, 2, 2, 2, 2, 2, 2, 2, 2, 2, 2, 2, 2, 2, 2, 2,\n",
       "       2, 2, 2, 2, 2, 2, 2, 2, 2, 2, 2, 2, 2, 2, 2, 2, 2, 2, 2, 2, 2, 2,\n",
       "       2, 2, 2, 2, 2, 2, 2, 2, 2, 2, 2, 2, 2, 2, 2, 2, 2, 2, 2, 2, 2, 2,\n",
       "       2, 2, 2, 2, 2, 2, 2, 2, 2, 2, 2, 2, 2, 2, 2, 2, 2, 2, 2, 2, 2, 2,\n",
       "       2, 2, 2, 2, 2, 2, 2, 2, 2, 2, 2, 2, 2, 2, 2, 2, 2, 2, 2, 2, 2, 2,\n",
       "       2, 2, 2, 2, 2, 2, 2, 2, 2, 2, 2, 2, 2, 2, 2, 2, 2, 2, 2, 2, 2, 2,\n",
       "       2, 2, 2, 2, 2, 2, 2, 2, 2, 2, 2, 2, 2, 2, 2, 2, 2, 2, 2, 2, 2, 2,\n",
       "       2, 2, 2, 2, 2, 2, 2, 2, 2, 2, 2, 2, 2, 2, 2, 2, 2, 2, 2, 2, 2, 2,\n",
       "       2, 2, 2, 2, 2, 2, 2, 2, 2, 2, 2, 2, 2, 2, 2, 2, 2, 2, 2, 2, 2, 2,\n",
       "       2, 2, 2, 2, 2, 2, 2, 2, 2, 2, 2, 2, 2, 2, 2, 2, 2, 2, 2, 2, 2, 2,\n",
       "       2, 2, 2, 2, 2, 2, 2, 2, 2, 2, 2, 2, 2, 2, 2, 2, 2, 2, 2, 2, 2, 2,\n",
       "       2, 2, 2, 2, 2, 2, 2, 2, 2, 2, 2, 2, 2, 2, 2, 2, 2, 2, 2, 2, 2, 2,\n",
       "       2, 2, 2, 2, 2, 2, 2, 2, 2, 2, 2, 2, 2, 2, 2, 2, 2, 2, 2, 2, 2, 2,\n",
       "       2, 2, 2, 2, 2, 2, 2, 2, 2, 2, 2, 2, 2, 2, 2, 2, 2, 2, 2, 2, 2, 2,\n",
       "       2, 2, 2, 2, 2, 2, 2, 2, 2, 2, 2, 2, 2, 2, 2, 2, 2, 2, 2, 2, 2, 2,\n",
       "       3, 3, 3, 3, 3, 3, 3, 3, 3, 3, 3, 3, 3, 3, 3, 3, 3, 3, 3, 3, 3, 3,\n",
       "       3, 3, 3, 3, 3, 3, 3, 3, 3, 3, 3, 3, 3, 3, 3, 3, 3, 3, 3, 3, 3, 3,\n",
       "       3, 3, 3, 3, 3, 3, 3, 3, 3, 3, 3, 3, 3, 3, 3, 3, 3, 3, 3, 3, 3, 3,\n",
       "       3, 3, 3, 3, 3, 3, 3, 3, 3, 3, 3, 3, 3, 3, 3, 3, 3, 3, 3, 3, 3, 3,\n",
       "       3, 3, 3, 3, 3, 3, 3, 3, 3, 3, 3, 3, 3, 3, 3, 3, 3, 3, 3, 3, 3, 3,\n",
       "       3, 3, 3, 3, 3, 3, 3, 3, 3, 3, 3, 3, 3, 3, 3, 3, 3, 3, 3, 3, 3, 3,\n",
       "       3, 3, 3, 3, 3, 3, 3, 3, 3, 3, 3, 3, 3, 3, 3, 3, 3, 3, 3, 3, 3, 3,\n",
       "       3, 3, 3, 3, 3, 3, 3, 3, 3, 3, 3, 3, 3, 3, 3, 3, 3, 3, 3, 3, 3, 3,\n",
       "       3, 3, 3, 3, 3, 3, 3, 3, 3, 3, 3, 3, 3, 3, 3, 3, 3, 3, 3, 3, 3, 3,\n",
       "       3, 3, 3, 3, 3, 3, 3, 3, 3, 3, 3, 3, 3, 3, 3, 3, 3, 3, 3, 3, 3, 3,\n",
       "       3, 3, 3, 3, 3, 3, 3, 3, 3, 3, 3, 3, 3, 3, 3, 3, 3, 3, 3, 3, 3, 3,\n",
       "       3, 3, 3, 3, 3, 3, 3, 3, 3, 3, 3, 3, 3, 3, 3, 3, 3, 3, 3, 3, 3, 3,\n",
       "       3, 3, 3, 3, 3, 3, 3, 3, 3, 3, 3, 3, 3, 3, 3, 3, 3, 3, 3, 3, 3, 3,\n",
       "       3, 3, 3, 3, 3, 3, 3, 3, 3, 3, 3, 3, 3, 3, 3, 3, 3, 3, 3, 3, 3, 3,\n",
       "       3, 3, 3, 3, 3, 3, 3, 3, 3, 3, 3, 3, 3, 3, 3, 3, 3, 3, 3, 3, 3, 3,\n",
       "       3, 3, 3, 3, 3, 3, 3, 3, 3, 3, 3, 3, 3, 3, 3, 3, 3, 3, 3, 3, 3, 3,\n",
       "       3, 3, 3, 3, 3, 3, 3, 3, 3, 3, 3, 3, 3, 3, 3, 3, 3, 3, 3, 3, 3, 3,\n",
       "       3, 3, 3, 3, 3, 3, 3, 3, 3, 3, 3, 3, 3, 3, 3, 3, 3, 3, 3, 3, 3, 3,\n",
       "       3, 3, 3, 3, 3, 3, 3, 3, 3, 3, 3, 3, 3, 3, 3, 3, 3, 3, 3, 3, 3, 3,\n",
       "       3, 3, 3, 3, 3, 3, 3, 3, 3, 3, 3, 3, 3, 3, 3, 3, 3, 3, 3, 3, 3, 3,\n",
       "       3, 3, 3, 3, 3, 3, 3, 3], dtype=int32)"
      ]
     },
     "execution_count": 176,
     "metadata": {},
     "output_type": "execute_result"
    }
   ],
   "source": [
    "test_generator.classes"
   ]
  },
  {
   "cell_type": "code",
   "execution_count": 179,
   "metadata": {},
   "outputs": [
    {
     "data": {
      "text/plain": [
       "[Text(33.0, 0.5, 'Actual'), Text(0.5, 15.0, 'Predicted')]"
      ]
     },
     "execution_count": 179,
     "metadata": {},
     "output_type": "execute_result"
    },
    {
     "data": {
      "image/png": "[encoded data removed]",
      "text/plain": [
       "<Figure size 432x288 with 2 Axes>"
      ]
     },
     "metadata": {
      "needs_background": "light"
     },
     "output_type": "display_data"
    }
   ],
   "source": [
    "conf = confusion_matrix(test_generator.classes, test_predictions, normalize='true')\n",
    "ax = sns.heatmap(conf, annot=True, xticklabels = target_names, yticklabels= target_names);\n",
    "ax.set(xlabel='Predicted', ylabel='Actual')"
   ]
  },
  {
   "cell_type": "code",
   "execution_count": null,
   "metadata": {},
   "outputs": [],
   "source": [
    "# Unsure why model performed so poorly on test data. Going to try using image augmentation to upsample the minoirity class"
   ]
  }
 ],
 "metadata": {
  "kernelspec": {
   "display_name": "Python 3",
   "language": "python",
   "name": "python3"
  },
  "language_info": {
   "codemirror_mode": {
    "name": "ipython",
    "version": 3
   },
   "file_extension": ".py",
   "mimetype": "text/x-python",
   "name": "python",
   "nbconvert_exporter": "python",
   "pygments_lexer": "ipython3",
   "version": "3.8.3"
  }
 },
 "nbformat": 4,
 "nbformat_minor": 4
}
